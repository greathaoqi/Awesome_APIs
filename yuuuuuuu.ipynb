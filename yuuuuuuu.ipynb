{
  "nbformat": 4,
  "nbformat_minor": 0,
  "metadata": {
    "colab": {
      "name": "yuuuuuuu.ipynb",
      "version": "0.3.2",
      "provenance": [],
      "include_colab_link": true
    },
    "kernelspec": {
      "name": "python3",
      "display_name": "Python 3"
    }
  },
  "cells": [
    {
      "cell_type": "markdown",
      "metadata": {
        "id": "view-in-github",
        "colab_type": "text"
      },
      "source": [
        "<a href=\"https://colab.research.google.com/github/greathaoqi/Awesome_APIs/blob/master/yuuuuuuu.ipynb\" target=\"_parent\"><img src=\"https://colab.research.google.com/assets/colab-badge.svg\" alt=\"Open In Colab\"/></a>"
      ]
    },
    {
      "cell_type": "code",
      "metadata": {
        "id": "xWYXS4_G8iq2",
        "colab_type": "code",
        "colab": {
          "base_uri": "https://localhost:8080/",
          "height": 57
        },
        "outputId": "3203e029-f3d9-447c-a852-dcb6bcf6d096"
      },
      "source": [
        "import itchat\n",
        "import urllib\n",
        "from bs4 import BeautifulSoup\n",
        "\n",
        "itchat.auto_login(enableCmdQR = True)\n",
        "\n",
        "itchat.get_msg()\n",
        "users = itchat.search_friends(name = '香芋');\n",
        "print(users)\n",
        "userName = users[0]['UserName'];\n",
        "print(nameList)\n",
        "itchat.send_msg(msg = '你给我发个消息试试',toUserName = userName)\n",
        "\n",
        "hello = urllib.request.urlopen(\"http://tianqi.sogou.com/?tid=101270107\")\n",
        "\n",
        "\n",
        "bs0bj = BeautifulSoup(hello)\n",
        "    nameList = bs0bj.findAll(\"p\",{\"class\":\"des\"})\n",
        "\n",
        "userName\n",
        "\n",
        "\n",
        "\n",
        "\n",
        "\n",
        "\n",
        "\n",
        "itchat.logout()\n",
        "\n",
        "\n",
        "\n",
        "\n",
        "\n",
        "\n",
        "\n",
        "\n",
        "!pip install urllib\n",
        "和BeautifulSoup\n",
        "\n",
        "\n",
        "\n",
        "\n",
        "print(bs0bj.findAll(\"p\",{\"class\":\"des\"}))\n",
        "\n",
        "\n"
      ],
      "execution_count": 46,
      "outputs": [
        {
          "output_type": "stream",
          "text": [
            "[<p class=\"des\">中雨转大雨</p>, <p class=\"des\">小雨</p>, <p class=\"des\">多云转小雨</p>, <p class=\"des\">多云转阵雨</p>, <p class=\"des\">多云转阵雨</p>, <p class=\"des\">多云转阵雨</p>, <p class=\"des\">多云转小雨</p>]\n"
          ],
          "name": "stdout"
        }
      ]
    }
  ]
}